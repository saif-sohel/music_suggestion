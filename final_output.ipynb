{
 "cells": [
  {
   "cell_type": "code",
   "execution_count": 106,
   "metadata": {},
   "outputs": [],
   "source": [
    "from tensorflow.keras.preprocessing import image\r\n",
    "from tensorflow.keras.models import load_model\r\n",
    "import numpy as np\r\n",
    "from colorthief import ColorThief"
   ]
  },
  {
   "cell_type": "code",
   "execution_count": 107,
   "metadata": {},
   "outputs": [],
   "source": [
    "label_list = np.empty(0)"
   ]
  },
  {
   "cell_type": "code",
   "execution_count": 108,
   "metadata": {},
   "outputs": [],
   "source": [
    "scene_model = load_model('scene-vgg19.h5')\r\n",
    "rain_model = load_model('rain_vgg19.h5')\r\n",
    "water_model = load_model('water_vgg19_kaggle.h5')\r\n",
    "day_night_model = load_model('day_night_lenet.hd5')"
   ]
  },
  {
   "cell_type": "code",
   "execution_count": 109,
   "metadata": {},
   "outputs": [],
   "source": [
    "def predict_class(model_name, photo ,classes):\r\n",
    "    global label_list\r\n",
    "    arr = np.zeros((classes))\r\n",
    "    output  = model_name.predict(photo)\r\n",
    "    print(output)\r\n",
    "    arr[np.argmax(output)] = 1\r\n",
    "    if(model_name == day_night_model):\r\n",
    "        arr = arr[::-1]\r\n",
    "    label_list = np.append(label_list, arr)\r\n",
    "\r\n",
    "def predict_color(image_name):\r\n",
    "    global label_list\r\n",
    "    color_thief = ColorThief(image_name)\r\n",
    "    dominant_color = color_thief.get_color(quality=1)\r\n",
    "    temp_list = list(dominant_color)\r\n",
    "    arr = np.zeros((3))\r\n",
    "    arr[np.argmax(temp_list)] = 1\r\n",
    "    arr = arr[::-1]\r\n",
    "    label_list = np.append(label_list, arr)"
   ]
  },
  {
   "cell_type": "code",
   "execution_count": 110,
   "metadata": {},
   "outputs": [],
   "source": [
    "def predict_rain(model_name, photo):\r\n",
    "    global label_list\r\n",
    "    arr = np.zeros((2))\r\n",
    "    output = model_name.predict(photo)\r\n",
    "    print(output)\r\n",
    "    if(np.argmax(output) == 2):\r\n",
    "        arr[1] = 1\r\n",
    "    else:\r\n",
    "        arr[0] = 1\r\n",
    "    label_list = np.append(label_list, arr)\r\n"
   ]
  },
  {
   "cell_type": "code",
   "execution_count": 111,
   "metadata": {},
   "outputs": [],
   "source": [
    "def predict_water(model_name, photo):\r\n",
    "    global label_list\r\n",
    "    arr = np.zeros((2))\r\n",
    "    output = model_name.predict(photo)\r\n",
    "    if(int(output + 0.5) == 1):\r\n",
    "        arr[1] = 1\r\n",
    "    else:\r\n",
    "        arr[0] = 1\r\n",
    "    label_list = np.append(label_list, arr)"
   ]
  },
  {
   "cell_type": "code",
   "execution_count": 112,
   "metadata": {},
   "outputs": [],
   "source": [
    "img150 = image.load_img(\"Test Images/12.jpg\",target_size=(150, 150))\r\n",
    "img150 = np.asarray(img150)\r\n",
    "img150 = np.expand_dims(img150, axis=0)\r\n",
    "img28 = image.load_img(\"Test Images/12.jpg\",target_size=(28, 28))\r\n",
    "img28 = np.asarray(img28)\r\n",
    "img28 = np.expand_dims(img28, axis=0)\r\n",
    "img128 = image.load_img(\"Test Images/12.jpg\",target_size=(128, 128))\r\n",
    "img128 = np.asarray(img128)\r\n",
    "img128 = np.expand_dims(img128, axis=0)"
   ]
  },
  {
   "cell_type": "code",
   "execution_count": 113,
   "metadata": {},
   "outputs": [
    {
     "name": "stdout",
     "output_type": "stream",
     "text": [
      "WARNING:tensorflow:11 out of the last 11 calls to <function Model.make_predict_function.<locals>.predict_function at 0x000002D8473D1C80> triggered tf.function retracing. Tracing is expensive and the excessive number of tracings could be due to (1) creating @tf.function repeatedly in a loop, (2) passing tensors with different shapes, (3) passing Python objects instead of tensors. For (1), please define your @tf.function outside of the loop. For (2), @tf.function has experimental_relax_shapes=True option that relaxes argument shapes that can avoid unnecessary retracing. For (3), please refer to https://www.tensorflow.org/tutorials/customization/performance#python_or_tensor_args and https://www.tensorflow.org/api_docs/python/tf/function for  more details.\n",
      "[[0. 1.]]\n"
     ]
    }
   ],
   "source": [
    "predict_class(day_night_model,img28, 2)"
   ]
  },
  {
   "cell_type": "code",
   "execution_count": 114,
   "metadata": {},
   "outputs": [],
   "source": [
    "predict_color('Test Images/12.jpg')"
   ]
  },
  {
   "cell_type": "code",
   "execution_count": 115,
   "metadata": {},
   "outputs": [
    {
     "name": "stdout",
     "output_type": "stream",
     "text": [
      "WARNING:tensorflow:11 out of the last 11 calls to <function Model.make_predict_function.<locals>.predict_function at 0x000002D847354400> triggered tf.function retracing. Tracing is expensive and the excessive number of tracings could be due to (1) creating @tf.function repeatedly in a loop, (2) passing tensors with different shapes, (3) passing Python objects instead of tensors. For (1), please define your @tf.function outside of the loop. For (2), @tf.function has experimental_relax_shapes=True option that relaxes argument shapes that can avoid unnecessary retracing. For (3), please refer to https://www.tensorflow.org/tutorials/customization/performance#python_or_tensor_args and https://www.tensorflow.org/api_docs/python/tf/function for  more details.\n",
      "[[0. 0. 0. 1. 0.]]\n"
     ]
    }
   ],
   "source": [
    "predict_rain(rain_model, img150)"
   ]
  },
  {
   "cell_type": "code",
   "execution_count": 116,
   "metadata": {},
   "outputs": [
    {
     "name": "stdout",
     "output_type": "stream",
     "text": [
      "WARNING:tensorflow:Model was constructed with shape (None, 150, 150, 3) for input Tensor(\"vgg19_input_21:0\", shape=(None, 150, 150, 3), dtype=float32), but it was called on an input with incompatible shape (None, 128, 128, 3).\n",
      "WARNING:tensorflow:Model was constructed with shape (None, 150, 150, 3) for input Tensor(\"input_1_21:0\", shape=(None, 150, 150, 3), dtype=float32), but it was called on an input with incompatible shape (None, 128, 128, 3).\n",
      "WARNING:tensorflow:11 out of the last 11 calls to <function Model.make_predict_function.<locals>.predict_function at 0x000002D8476DF730> triggered tf.function retracing. Tracing is expensive and the excessive number of tracings could be due to (1) creating @tf.function repeatedly in a loop, (2) passing tensors with different shapes, (3) passing Python objects instead of tensors. For (1), please define your @tf.function outside of the loop. For (2), @tf.function has experimental_relax_shapes=True option that relaxes argument shapes that can avoid unnecessary retracing. For (3), please refer to https://www.tensorflow.org/tutorials/customization/performance#python_or_tensor_args and https://www.tensorflow.org/api_docs/python/tf/function for  more details.\n",
      "[[0.0000000e+00 1.0301472e-14 0.0000000e+00 0.0000000e+00 1.0000000e+00]]\n"
     ]
    }
   ],
   "source": [
    "predict_class(scene_model, img128, 5)"
   ]
  },
  {
   "cell_type": "code",
   "execution_count": 117,
   "metadata": {},
   "outputs": [
    {
     "name": "stdout",
     "output_type": "stream",
     "text": [
      "WARNING:tensorflow:11 out of the last 11 calls to <function Model.make_predict_function.<locals>.predict_function at 0x000002D8474861E0> triggered tf.function retracing. Tracing is expensive and the excessive number of tracings could be due to (1) creating @tf.function repeatedly in a loop, (2) passing tensors with different shapes, (3) passing Python objects instead of tensors. For (1), please define your @tf.function outside of the loop. For (2), @tf.function has experimental_relax_shapes=True option that relaxes argument shapes that can avoid unnecessary retracing. For (3), please refer to https://www.tensorflow.org/tutorials/customization/performance#python_or_tensor_args and https://www.tensorflow.org/api_docs/python/tf/function for  more details.\n"
     ]
    }
   ],
   "source": [
    "predict_water(water_model, img150)"
   ]
  },
  {
   "cell_type": "code",
   "execution_count": 118,
   "metadata": {},
   "outputs": [
    {
     "name": "stdout",
     "output_type": "stream",
     "text": [
      "[1. 0. 0. 1. 0. 1. 0. 0. 0. 0. 0. 1. 1. 0.]\n"
     ]
    }
   ],
   "source": [
    "print(label_list)"
   ]
  },
  {
   "cell_type": "code",
   "execution_count": 119,
   "metadata": {},
   "outputs": [],
   "source": [
    "classes = ['blues', 'country music', 'edm', 'hip hop', 'metal']"
   ]
  },
  {
   "cell_type": "code",
   "execution_count": 120,
   "metadata": {},
   "outputs": [
    {
     "name": "stdout",
     "output_type": "stream",
     "text": [
      "hip hop\n"
     ]
    }
   ],
   "source": [
    "\r\n",
    "import pickle\r\n",
    "loaded_model = pickle.load(open('label_model.sav', 'rb'))\r\n",
    "label_input = label_list.reshape(1, -1)\r\n",
    "result = loaded_model.predict(label_input)\r\n",
    "print(classes[result[0]])"
   ]
  },
  {
   "cell_type": "code",
   "execution_count": null,
   "metadata": {},
   "outputs": [],
   "source": []
  }
 ],
 "metadata": {
  "kernelspec": {
   "display_name": "Python 3",
   "language": "python",
   "name": "python3"
  },
  "language_info": {
   "codemirror_mode": {
    "name": "ipython",
    "version": 3
   },
   "file_extension": ".py",
   "mimetype": "text/x-python",
   "name": "python",
   "nbconvert_exporter": "python",
   "pygments_lexer": "ipython3",
   "version": "3.7.0"
  },
  "orig_nbformat": 2
 },
 "nbformat": 4,
 "nbformat_minor": 2
}