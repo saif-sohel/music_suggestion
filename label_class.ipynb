{
 "cells": [
  {
   "cell_type": "code",
   "execution_count": 1,
   "metadata": {},
   "outputs": [],
   "source": [
    "import pandas as pd\n",
    "import numpy as np\n",
    "\n",
    "import matplotlib.pyplot as plt\n",
    "%matplotlib inline\n",
    "\n",
    "import seaborn as sns\n",
    "sns.set(style=\"darkgrid\")"
   ]
  },
  {
   "cell_type": "code",
   "execution_count": 2,
   "metadata": {},
   "outputs": [],
   "source": [
    "label = pd.read_csv('Compiled_data_Manual.csv')"
   ]
  },
  {
   "cell_type": "code",
   "execution_count": 3,
   "metadata": {},
   "outputs": [
    {
     "data": {
      "text/plain": "array(['Blues', 'Metal', 'Country Music', 'Hip-Hop/Rap', 'EDM'],\n      dtype=object)"
     },
     "execution_count": 3,
     "metadata": {},
     "output_type": "execute_result"
    }
   ],
   "source": [
    "label['music_genre'].unique()"
   ]
  },
  {
   "cell_type": "code",
   "execution_count": 4,
   "metadata": {},
   "outputs": [
    {
     "data": {
      "text/plain": "music_genre\nBlues            31\nCountry Music    24\nEDM              10\nHip-Hop/Rap      15\nMetal             9\ndtype: int64"
     },
     "execution_count": 4,
     "metadata": {},
     "output_type": "execute_result"
    }
   ],
   "source": [
    "class_group = label.groupby('music_genre').apply(lambda x: len(x))\r\n",
    "class_group"
   ]
  },
  {
   "cell_type": "code",
   "execution_count": 5,
   "metadata": {},
   "outputs": [
    {
     "data": {
      "text/plain": "<AxesSubplot:xlabel='music_genre'>"
     },
     "execution_count": 5,
     "metadata": {},
     "output_type": "execute_result"
    },
    {
     "data": {
      "image/png": "[encoded data removed]",
      "text/plain": "<Figure size 432x288 with 1 Axes>"
     },
     "metadata": {
      "transient": {}
     },
     "output_type": "display_data"
    }
   ],
   "source": [
    "class_group.plot(kind='bar', grid=False)"
   ]
  },
  {
   "cell_type": "code",
   "execution_count": 6,
   "metadata": {},
   "outputs": [],
   "source": [
    "from sklearn.preprocessing import LabelEncoder\r\n",
    "from sklearn.feature_extraction import DictVectorizer\r\n",
    "\r\n",
    "cols_to_retain = ['scene', 'dom_color', 'rainy_clear', 'day_night', 'waterbody']\r\n",
    "\r\n",
    "X_feature = label[cols_to_retain]\r\n",
    "X_dict = X_feature.T.to_dict().values()\r\n",
    "\r\n",
    "vect = DictVectorizer(sparse=False)\r\n",
    "X_vector = vect.fit_transform(X_dict)\r\n",
    "X_Train = X_vector[:-1]\r\n",
    "X_Test = X_vector[-1:] \r\n",
    "\r\n",
    "le = LabelEncoder()\r\n",
    "y_train = le.fit_transform(label['music_genre'][:-1])"
   ]
  },
  {
   "cell_type": "code",
   "execution_count": 7,
   "metadata": {},
   "outputs": [
    {
     "name": "stdout",
     "output_type": "stream",
     "text": [
      "dict_values([{'scene': 'Mountain', 'dom_color': 'R', 'rainy_clear': 'Rainy', 'day_night': 'Day', 'waterbody': 'No'}, {'scene': 'Forest', 'dom_color': 'G', 'rainy_clear': 'Clear', 'day_night': 'Night', 'waterbody': 'No'}, {'scene': 'Forest', 'dom_color': 'B', 'rainy_clear': 'Clear', 'day_night': 'Day', 'waterbody': 'Yes'}, {'scene': 'Building', 'dom_color': 'G', 'rainy_clear': 'Clear', 'day_night': 'Day', 'waterbody': 'No'}, {'scene': 'Building', 'dom_color': 'B', 'rainy_clear': 'Clear', 'day_night': 'Day', 'waterbody': 'No'}, {'scene': 'Building', 'dom_color': 'B', 'rainy_clear': 'Clear', 'day_night': 'Night', 'waterbody': 'No'}, {'scene': 'Park', 'dom_color': 'R', 'rainy_clear': 'Clear', 'day_night': 'Night', 'waterbody': 'Yes'}, {'scene': 'Building', 'dom_color': 'R', 'rainy_clear': 'Clear', 'day_night': 'Night', 'waterbody': 'Yes'}, {'scene': 'Mountain', 'dom_color': 'B', 'rainy_clear': 'Clear', 'day_night': 'Night', 'waterbody': 'No'}, {'scene': 'Mountain', 'dom_color': 'R', 'rainy_clear': 'Clear', 'day_night': 'Day', 'waterbody': 'Yes'}, {'scene': 'Mountain', 'dom_color': 'B', 'rainy_clear': 'Rainy', 'day_night': 'Day', 'waterbody': 'Yes'}, {'scene': 'Building', 'dom_color': 'G', 'rainy_clear': 'Rainy', 'day_night': 'Day', 'waterbody': 'No'}, {'scene': 'Beach', 'dom_color': 'R', 'rainy_clear': 'Rainy', 'day_night': 'Night', 'waterbody': 'Yes'}, {'scene': 'Building', 'dom_color': 'G', 'rainy_clear': 'Clear', 'day_night': 'Day', 'waterbody': 'Yes'}, {'scene': 'Beach', 'dom_color': 'B', 'rainy_clear': 'Rainy', 'day_night': 'Night', 'waterbody': 'Yes'}, {'scene': 'Mountain', 'dom_color': 'B', 'rainy_clear': 'Rainy', 'day_night': 'Day', 'waterbody': 'No'}, {'scene': 'Building', 'dom_color': 'G', 'rainy_clear': 'Clear', 'day_night': 'Night', 'waterbody': 'No'}, {'scene': 'Park', 'dom_color': 'B', 'rainy_clear': 'Rainy', 'day_night': 'Night', 'waterbody': 'No'}, {'scene': 'Forest', 'dom_color': 'B', 'rainy_clear': 'Clear', 'day_night': 'Night', 'waterbody': 'Yes'}, {'scene': 'Beach', 'dom_color': 'R', 'rainy_clear': 'Clear', 'day_night': 'Day', 'waterbody': 'Yes'}, {'scene': 'Park', 'dom_color': 'R', 'rainy_clear': 'Clear', 'day_night': 'Night', 'waterbody': 'No'}, {'scene': 'Mountain', 'dom_color': 'G', 'rainy_clear': 'Clear', 'day_night': 'Day', 'waterbody': 'Yes'}, {'scene': 'Park', 'dom_color': 'R', 'rainy_clear': 'Rainy', 'day_night': 'Night', 'waterbody': 'No'}, {'scene': 'Mountain', 'dom_color': 'R', 'rainy_clear': 'Rainy', 'day_night': 'Day', 'waterbody': 'Yes'}, {'scene': 'Building', 'dom_color': 'G', 'rainy_clear': 'Clear', 'day_night': 'Night', 'waterbody': 'Yes'}, {'scene': 'Mountain', 'dom_color': 'B', 'rainy_clear': 'Clear', 'day_night': 'Night', 'waterbody': 'Yes'}, {'scene': 'Forest', 'dom_color': 'R', 'rainy_clear': 'Clear', 'day_night': 'Day', 'waterbody': 'Yes'}, {'scene': 'Building', 'dom_color': 'B', 'rainy_clear': 'Rainy', 'day_night': 'Night', 'waterbody': 'No'}, {'scene': 'Beach', 'dom_color': 'G', 'rainy_clear': 'Clear', 'day_night': 'Day', 'waterbody': 'No'}, {'scene': 'Beach', 'dom_color': 'R', 'rainy_clear': 'Clear', 'day_night': 'Night', 'waterbody': 'Yes'}, {'scene': 'Beach', 'dom_color': 'R', 'rainy_clear': 'Rainy', 'day_night': 'Day', 'waterbody': 'Yes'}, {'scene': 'Mountain', 'dom_color': 'G', 'rainy_clear': 'Rainy', 'day_night': 'Day', 'waterbody': 'Yes'}, {'scene': 'Forest', 'dom_color': 'B', 'rainy_clear': 'Rainy', 'day_night': 'Night', 'waterbody': 'No'}, {'scene': 'Building', 'dom_color': 'G', 'rainy_clear': 'Rainy', 'day_night': 'Night', 'waterbody': 'No'}, {'scene': 'Building', 'dom_color': 'B', 'rainy_clear': 'Clear', 'day_night': 'Night', 'waterbody': 'Yes'}, {'scene': 'Forest', 'dom_color': 'G', 'rainy_clear': 'Rainy', 'day_night': 'Day', 'waterbody': 'Yes'}, {'scene': 'Beach', 'dom_color': 'G', 'rainy_clear': 'Clear', 'day_night': 'Day', 'waterbody': 'Yes'}, {'scene': 'Building', 'dom_color': 'B', 'rainy_clear': 'Clear', 'day_night': 'Day', 'waterbody': 'No'}, {'scene': 'Beach', 'dom_color': 'R', 'rainy_clear': 'Clear', 'day_night': 'Day', 'waterbody': 'No'}, {'scene': 'Forest', 'dom_color': 'R', 'rainy_clear': 'Clear', 'day_night': 'Day', 'waterbody': 'No'}, {'scene': 'Building', 'dom_color': 'R', 'rainy_clear': 'Rainy', 'day_night': 'Night', 'waterbody': 'No'}, {'scene': 'Beach', 'dom_color': 'B', 'rainy_clear': 'Rainy', 'day_night': 'Day', 'waterbody': 'Yes'}, {'scene': 'Mountain', 'dom_color': 'R', 'rainy_clear': 'Clear', 'day_night': 'Day', 'waterbody': 'No'}, {'scene': 'Park', 'dom_color': 'B', 'rainy_clear': 'Clear', 'day_night': 'Night', 'waterbody': 'No'}, {'scene': 'Beach', 'dom_color': 'R', 'rainy_clear': 'Clear', 'day_night': 'Night', 'waterbody': 'No'}, {'scene': 'Park', 'dom_color': 'R', 'rainy_clear': 'Clear', 'day_night': 'Day', 'waterbody': 'No'}, {'scene': 'Park', 'dom_color': 'G', 'rainy_clear': 'Clear', 'day_night': 'Day', 'waterbody': 'No'}, {'scene': 'Park', 'dom_color': 'B', 'rainy_clear': 'Rainy', 'day_night': 'Night', 'waterbody': 'Yes'}, {'scene': 'Forest', 'dom_color': 'R', 'rainy_clear': 'Rainy', 'day_night': 'Day', 'waterbody': 'Yes'}, {'scene': 'Mountain', 'dom_color': 'G', 'rainy_clear': 'Rainy', 'day_night': 'Night', 'waterbody': 'No'}, {'scene': 'Beach', 'dom_color': 'G', 'rainy_clear': 'Clear', 'day_night': 'Night', 'waterbody': 'No'}, {'scene': 'Mountain', 'dom_color': 'R', 'rainy_clear': 'Clear', 'day_night': 'Night', 'waterbody': 'No'}, {'scene': 'Mountain', 'dom_color': 'G', 'rainy_clear': 'Clear', 'day_night': 'Night', 'waterbody': 'No'}, {'scene': 'Mountain', 'dom_color': 'B', 'rainy_clear': 'Rainy', 'day_night': 'Night', 'waterbody': 'Yes'}, {'scene': 'Mountain', 'dom_color': 'B', 'rainy_clear': 'Clear', 'day_night': 'Day', 'waterbody': 'Yes'}, {'scene': 'Forest', 'dom_color': 'R', 'rainy_clear': 'Clear', 'day_night': 'Night', 'waterbody': 'No'}, {'scene': 'Mountain', 'dom_color': 'G', 'rainy_clear': 'Rainy', 'day_night': 'Day', 'waterbody': 'Yes'}, {'scene': 'Building', 'dom_color': 'R', 'rainy_clear': 'Rainy', 'day_night': 'Day', 'waterbody': 'No'}, {'scene': 'Building', 'dom_color': 'R', 'rainy_clear': 'Clear', 'day_night': 'Night', 'waterbody': 'No'}, {'scene': 'Park', 'dom_color': 'R', 'rainy_clear': 'Clear', 'day_night': 'Day', 'waterbody': 'Yes'}, {'scene': 'Park', 'dom_color': 'G', 'rainy_clear': 'Rainy', 'day_night': 'Day', 'waterbody': 'No'}, {'scene': 'Beach', 'dom_color': 'B', 'rainy_clear': 'Clear', 'day_night': 'Night', 'waterbody': 'Yes'}, {'scene': 'Forest', 'dom_color': 'G', 'rainy_clear': 'Rainy', 'day_night': 'Night', 'waterbody': 'No'}, {'scene': 'Park', 'dom_color': 'R', 'rainy_clear': 'Rainy', 'day_night': 'Day', 'waterbody': 'Yes'}, {'scene': 'Forest', 'dom_color': 'B', 'rainy_clear': 'Rainy', 'day_night': 'Day', 'waterbody': 'Yes'}, {'scene': 'Building', 'dom_color': 'B', 'rainy_clear': 'Rainy', 'day_night': 'Day', 'waterbody': 'No'}, {'scene': 'Forest', 'dom_color': 'B', 'rainy_clear': 'Rainy', 'day_night': 'Night', 'waterbody': 'Yes'}, {'scene': 'Building', 'dom_color': 'R', 'rainy_clear': 'Clear', 'day_night': 'Day', 'waterbody': 'Yes'}, {'scene': 'Forest', 'dom_color': 'G', 'rainy_clear': 'Clear', 'day_night': 'Day', 'waterbody': 'No'}, {'scene': 'Park', 'dom_color': 'G', 'rainy_clear': 'Clear', 'day_night': 'Night', 'waterbody': 'Yes'}, {'scene': 'Mountain', 'dom_color': 'G', 'rainy_clear': 'Clear', 'day_night': 'Day', 'waterbody': 'No'}, {'scene': 'Park', 'dom_color': 'G', 'rainy_clear': 'Clear', 'day_night': 'Night', 'waterbody': 'No'}, {'scene': 'Beach', 'dom_color': 'G', 'rainy_clear': 'Clear', 'day_night': 'Night', 'waterbody': 'Yes'}, {'scene': 'Mountain', 'dom_color': 'R', 'rainy_clear': 'Clear', 'day_night': 'Night', 'waterbody': 'Yes'}, {'scene': 'Mountain', 'dom_color': 'B', 'rainy_clear': 'Clear', 'day_night': 'Day', 'waterbody': 'No'}, {'scene': 'Forest', 'dom_color': 'G', 'rainy_clear': 'Clear', 'day_night': 'Day', 'waterbody': 'Yes'}, {'scene': 'Mountain', 'dom_color': 'G', 'rainy_clear': 'Clear', 'day_night': 'Night', 'waterbody': 'Yes'}, {'scene': 'Beach', 'dom_color': 'B', 'rainy_clear': 'Clear', 'day_night': 'Day', 'waterbody': 'Yes'}, {'scene': 'Forest', 'dom_color': 'B', 'rainy_clear': 'Clear', 'day_night': 'Night', 'waterbody': 'No'}, {'scene': 'Park', 'dom_color': 'G', 'rainy_clear': 'Clear', 'day_night': 'Day', 'waterbody': 'Yes'}, {'scene': 'Forest', 'dom_color': 'G', 'rainy_clear': 'Rainy', 'day_night': 'Day', 'waterbody': 'No'}, {'scene': 'Forest', 'dom_color': 'R', 'rainy_clear': 'Rainy', 'day_night': 'Day', 'waterbody': 'No'}, {'scene': 'Park', 'dom_color': 'R', 'rainy_clear': 'Rainy', 'day_night': 'Day', 'waterbody': 'No'}, {'scene': 'Forest', 'dom_color': 'B', 'rainy_clear': 'Clear', 'day_night': 'Day', 'waterbody': 'No'}, {'scene': 'Park', 'dom_color': 'G', 'rainy_clear': 'Rainy', 'day_night': 'Day', 'waterbody': 'Yes'}, {'scene': 'Beach', 'dom_color': 'G', 'rainy_clear': 'Rainy', 'day_night': 'Day', 'waterbody': 'Yes'}, {'scene': 'Beach', 'dom_color': 'B', 'rainy_clear': 'Clear', 'day_night': 'Day', 'waterbody': 'No'}, {'scene': 'Forest', 'dom_color': 'B', 'rainy_clear': 'Rainy', 'day_night': 'Day', 'waterbody': 'No'}, {'scene': 'Forest', 'dom_color': 'G', 'rainy_clear': 'Clear', 'day_night': 'Night', 'waterbody': 'Yes'}])\n"
     ]
    }
   ],
   "source": [
    "print(X_dict)"
   ]
  },
  {
   "cell_type": "code",
   "execution_count": 7,
   "metadata": {},
   "outputs": [],
   "source": [
    "from sklearn import tree\r\n",
    "\r\n",
    "clf = tree.DecisionTreeClassifier(criterion='entropy')\r\n",
    "clf = clf.fit(X_Train,y_train)"
   ]
  },
  {
   "cell_type": "code",
   "execution_count": 8,
   "metadata": {},
   "outputs": [
    {
     "data": {
      "text/plain": "array(['Metal'], dtype=object)"
     },
     "execution_count": 8,
     "metadata": {},
     "output_type": "execute_result"
    }
   ],
   "source": [
    "le.inverse_transform(clf.predict(X_Test))"
   ]
  },
  {
   "cell_type": "code",
   "execution_count": 9,
   "metadata": {},
   "outputs": [],
   "source": [
    "Train_predict = clf.predict(X_Train)"
   ]
  },
  {
   "cell_type": "code",
   "execution_count": 10,
   "metadata": {},
   "outputs": [
    {
     "data": {
      "text/plain": "False"
     },
     "execution_count": 10,
     "metadata": {},
     "output_type": "execute_result"
    }
   ],
   "source": [
    "(Train_predict == y_train).all()"
   ]
  },
  {
   "cell_type": "code",
   "execution_count": 11,
   "metadata": {},
   "outputs": [
    {
     "name": "stdout",
     "output_type": "stream",
     "text": [
      "Accuracy is: 0.9886363636363636\n",
      "              precision    recall  f1-score   support\n",
      "\n",
      "           0       1.00      1.00      1.00        30\n",
      "           1       1.00      1.00      1.00        24\n",
      "           2       0.91      1.00      0.95        10\n",
      "           3       1.00      0.93      0.97        15\n",
      "           4       1.00      1.00      1.00         9\n",
      "\n",
      "    accuracy                           0.99        88\n",
      "   macro avg       0.98      0.99      0.98        88\n",
      "weighted avg       0.99      0.99      0.99        88\n",
      "\n"
     ]
    }
   ],
   "source": [
    "from sklearn.metrics import accuracy_score, classification_report\r\n",
    "\r\n",
    "print('Accuracy is:', accuracy_score(y_train, Train_predict))\r\n",
    "print(classification_report(y_train, Train_predict))"
   ]
  },
  {
   "cell_type": "code",
   "execution_count": 13,
   "metadata": {},
   "outputs": [
    {
     "name": "stdout",
     "output_type": "stream",
     "text": [
      "[1. 1. 1. 1. 1.]\n",
      "[1. 0. 0. 0. 1. 0. 1. 0. 0. 0. 1. 0. 1. 0.]\n"
     ]
    }
   ],
   "source": [
    "dict = {'scene': 'Mountain', 'dom_color': 'R', 'rainy_clear': 'Rainy', 'day_night': 'Day', 'waterbody': 'No'}\r\n",
    "le_vect = DictVectorizer(sparse=False)\r\n",
    "le_vector = le_vect.fit_transform(dict)\r\n",
    "print(le_vector[0])\r\n",
    "print(X_vector[0])"
   ]
  },
  {
   "cell_type": "code",
   "execution_count": 14,
   "metadata": {},
   "outputs": [
    {
     "data": {
      "text/plain": "['day_night=Day',\n 'day_night=Night',\n 'dom_color=B',\n 'dom_color=G',\n 'dom_color=R',\n 'rainy_clear=Clear',\n 'rainy_clear=Rainy',\n 'scene=Beach',\n 'scene=Building',\n 'scene=Forest',\n 'scene=Mountain',\n 'scene=Park',\n 'waterbody=No',\n 'waterbody=Yes']"
     },
     "execution_count": 14,
     "metadata": {},
     "output_type": "execute_result"
    }
   ],
   "source": [
    "vect.get_feature_names()"
   ]
  },
  {
   "cell_type": "code",
   "execution_count": 18,
   "metadata": {},
   "outputs": [
    {
     "data": {
      "image/png": "[encoded data removed]",
      "text/plain": "<Figure size 1080x720 with 2 Axes>"
     },
     "metadata": {
      "transient": {}
     },
     "output_type": "display_data"
    },
    {
     "data": {
      "text/plain": "<AxesSubplot:title={'center':'DecisionTreeClassifier Classification Report'}>"
     },
     "execution_count": 18,
     "metadata": {},
     "output_type": "execute_result"
    }
   ],
   "source": [
    "from yellowbrick.classifier import ClassificationReport\r\n",
    "from yellowbrick.datasets import load_occupancy\r\n",
    "classes = ['Blues', 'Metal', 'Country Music', 'Hip-Hop/Rap', 'EDM']\r\n",
    "visualizer = ClassificationReport(clf, classes=classes, support=True, size=(1080, 720))\r\n",
    "visualizer.fit(X_Train, y_train)        # Fit the visualizer and the model\r\n",
    "visualizer.score(X_Train, y_train)        # Evaluate the model on the test data\r\n",
    "visualizer.show()\r\n"
   ]
  }
 ],
 "metadata": {
  "kernelspec": {
   "display_name": "Python 3",
   "language": "python",
   "name": "python3"
  },
  "language_info": {
   "codemirror_mode": {
    "name": "ipython",
    "version": 3
   },
   "file_extension": ".py",
   "mimetype": "text/x-python",
   "name": "python",
   "nbconvert_exporter": "python",
   "pygments_lexer": "ipython3",
   "version": "3.7.0"
  },
  "orig_nbformat": 2
 },
 "nbformat": 4,
 "nbformat_minor": 2
}